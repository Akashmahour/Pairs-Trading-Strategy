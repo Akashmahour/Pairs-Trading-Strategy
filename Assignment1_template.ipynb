{
  "nbformat": 4,
  "nbformat_minor": 0,
  "metadata": {
    "colab": {
      "name": "Assignment1_template.ipynb",
      "provenance": []
    },
    "kernelspec": {
      "name": "python3",
      "display_name": "Python 3"
    },
    "language_info": {
      "name": "python"
    }
  },
  "cells": [
    {
      "cell_type": "code",
      "metadata": {
        "id": "OYFYFkGi48Dg"
      },
      "source": [
        "# import the libraries\n",
        "\n",
        "import numpy as np\n",
        "import pandas as pd\n",
        "import statsmodels\n",
        "from statsmodels.tsa.stattools import coint   # use this library to find this out the p_value\n",
        "import matplotlib.pyplot as plt\n",
        "from pandas_datareader import data as pdr\n",
        "import datetime\n",
        "import fix_yahoo_finance as yf"
      ],
      "execution_count": null,
      "outputs": []
    },
    {
      "cell_type": "code",
      "metadata": {
        "id": "2SmQy2qQ5UP0"
      },
      "source": [
        "# predefined functions in this cell ,  no need to chagne them\n",
        "\n",
        "def downloadStockData(tickers,start,end):\n",
        "    \"\"\"\n",
        "        This function downloads the Close price of the stock and creates a dataframe from it\n",
        "        Params:\n",
        "            tickers : a list of ticker of various stocks\n",
        "            start   : it is the start date of the data to be downloaded. It is a datetime in datetime format.\n",
        "            end     : it is the end date of the data to be downloaded. It is a datetime in datetime format.\n",
        "\n",
        "        Return:\n",
        "            A dataframe with all the close for of each stock on each open market day\n",
        "    \"\"\"\n",
        "    ticker_data = pdr.get_data_yahoo(tickers, start, end)['Close']\n",
        "    return ticker_data\n",
        "\n",
        "def zscore(series):\n",
        "    return (series - series.mean()) / np.std(series)\n",
        "\n",
        "def plot_ratios(ratio):\n",
        "    \"\"\"\n",
        "        This function just plots the ratios plot \n",
        "        Params:\n",
        "            ratio : a list of the the ration of two stock price \n",
        "    \"\"\"\n",
        "    ratios.plot()\n",
        "    plt.axhline(ratios.mean(),color=\"yellow\")\n",
        "    plt.show()\n"
      ],
      "execution_count": null,
      "outputs": []
    },
    {
      "cell_type": "code",
      "metadata": {
        "id": "lNUsKIMX5ZzR"
      },
      "source": [
        "def findCointegrationValue(data,p_value_threshold=0.05):\n",
        "    \"\"\"\n",
        "        This function find out the pairs of stock with p value less than a constant\n",
        "        Params:\n",
        "            data               : the dataframe containning all the close for of each stock on each open market day\n",
        "            p_value_threshold  : the threshold value for the p value of pairs of stocks. We consider a 2 stocks to be cointegrted only if the p value is less than this value\n",
        "\n",
        "        Returns:\n",
        "            p values of all the pairs , the list of all the pairs with p value less than the threshold \n",
        "    \"\"\"\n"
      ],
      "execution_count": null,
      "outputs": []
    },
    {
      "cell_type": "code",
      "metadata": {
        "id": "6kvr4Kbv63G-"
      },
      "source": [
        "def getBestKCointergratedStocks(data,k=10,p_value_threshold=0.05):\n",
        "    \"\"\"\n",
        "        This functions find out the k pairs with the least p value and all of them should be less than the threshold  \n",
        "        Params:\n",
        "            data               : the dataframe containning all the close for of each stock on each open market day\n",
        "            k                  : the number of pairs to be found out\n",
        "            p_value_threshold  : the threshold value for the p value of pairs of stocks. We consider a 2 stocks to be cointegrted only if the p value is less than this value\n",
        "\n",
        "        Returns:\n",
        "            the p value for all the pairs of stocks , the list k pairs with the least p value and their p values . If k such pairs doesn't exists return how many of them occur \n",
        "    \"\"\"\n"
      ],
      "execution_count": null,
      "outputs": []
    },
    {
      "cell_type": "code",
      "metadata": {
        "id": "X0bvyXcX7-ft"
      },
      "source": [
        "def distanceBetweenStocks(data1,data2,window_size):\n",
        "    \"\"\"\n",
        "        This function takes list of two stocks and find the distance between the stocks \n",
        "        Params:\n",
        "            data1: list of stock price of stock1\n",
        "            data2: list of stock price of stock2\n",
        "            window_size : the window size\n",
        "        Returns:\n",
        "            the distance between the lists\n",
        "\n",
        "        Note:\n",
        "            In this function do try to normalise the stock price and try out some variations in it.\n",
        "    \"\"\" \n"
      ],
      "execution_count": null,
      "outputs": []
    },
    {
      "cell_type": "code",
      "metadata": {
        "id": "8StOlGmQ-2na"
      },
      "source": [
        "def getBestKLessDistanceStocks(data,k=10):\n",
        "    \"\"\"\n",
        "        This functions find out the k pairs with the least distance between them  \n",
        "        Params:\n",
        "            data               : the dataframe containning all the close for of each stock on each open market day\n",
        "            k                  : the number of pairs to be found out\n",
        "            \n",
        "        Returns:\n",
        "            the distance between all the stock pairs, the list of k pairs with the least distance between them\n",
        "    \"\"\"\n"
      ],
      "execution_count": null,
      "outputs": []
    },
    {
      "cell_type": "code",
      "metadata": {
        "id": "oz7WGj5s_6RB"
      },
      "source": [
        "tickers = ['HD', 'DIS','MSFT', 'BA', 'MMM', 'PFE', 'NKE', 'JNJ', 'MCD', 'INTC', 'XOM', 'GS', 'JPM', 'AXP', 'V', 'IBM', 'UNH', 'PG', 'GE', 'KO', 'CSCO', 'CVX', 'CAT', 'MRK', 'WMT', 'VZ', 'RTX', 'TRV', 'AAPL', 'ADBE', 'EBAY', 'QCOM', 'HPQ', 'JNPR', 'AMD']\n",
        "start = datetime.datetime(2011,1,1)\n",
        "end = datetime.datetime(2017,1,1)\n",
        "data = downloadStockData(tickers,start,end)"
      ],
      "execution_count": null,
      "outputs": []
    },
    {
      "cell_type": "code",
      "metadata": {
        "id": "1S_BGo_7AlnM"
      },
      "source": [
        ""
      ],
      "execution_count": null,
      "outputs": []
    },
    {
      "cell_type": "markdown",
      "metadata": {
        "id": "k7d2fPoSD0Zn"
      },
      "source": [
        "# Reaons why those 2 stocks are similar. (Explain for any 2 stocks in this text cell)"
      ]
    }
  ]
}