{
  "nbformat": 4,
  "nbformat_minor": 0,
  "metadata": {
    "colab": {
      "name": "Assignment2 Template.ipynb",
      "provenance": []
    },
    "kernelspec": {
      "name": "python3",
      "display_name": "Python 3"
    },
    "language_info": {
      "name": "python"
    }
  },
  "cells": [
    {
      "cell_type": "code",
      "metadata": {
        "colab": {
          "base_uri": "https://localhost:8080/"
        },
        "id": "MSTYApMCyice",
        "outputId": "2dd42749-505e-46a3-af3c-45c8289e9ea0"
      },
      "source": [
        "# import the libraries\n",
        "\n",
        "import numpy as np\n",
        "import pandas as pd\n",
        "import statsmodels\n",
        "from sklearn.linear_model import LinearRegression\n",
        "from statsmodels.tsa.stattools import coint   # use this library to find this out the p_value\n",
        "import matplotlib.pyplot as plt\n",
        "from pandas_datareader import data as pdr\n",
        "import datetime"
      ],
      "execution_count": 1,
      "outputs": [
        {
          "output_type": "stream",
          "text": [
            "/usr/local/lib/python3.7/dist-packages/statsmodels/tools/_testing.py:19: FutureWarning: pandas.util.testing is deprecated. Use the functions in the public API at pandas.testing instead.\n",
            "  import pandas.util.testing as tm\n"
          ],
          "name": "stderr"
        }
      ]
    },
    {
      "cell_type": "code",
      "metadata": {
        "id": "uVuSQsSzysY3"
      },
      "source": [
        "# predefined functions in this cell ,  no need to chagne them\n",
        "\n",
        "def downloadStockData(tickers,start,end):\n",
        "    \"\"\"\n",
        "        This function downloads the Close price of the stock and creates a dataframe from it\n",
        "        Params:\n",
        "            tickers : a list of ticker of various stocks\n",
        "            start   : it is the start date of the data to be downloaded. It is a datetime in datetime format.\n",
        "            end     : it is the end date of the data to be downloaded. It is a datetime in datetime format.\n",
        "\n",
        "        Return:\n",
        "            A dataframe with all the close for of each stock on each open market day\n",
        "    \"\"\"\n",
        "    ticker_data = pdr.get_data_yahoo(tickers, start, end)['Adj Close']\n",
        "    return ticker_data\n"
      ],
      "execution_count": 2,
      "outputs": []
    },
    {
      "cell_type": "code",
      "metadata": {
        "id": "Pk65BdaDyvQo"
      },
      "source": [
        "tickers = ['HD', 'DIS','MSFT', 'BA', 'MMM', 'PFE', 'NKE', 'JNJ', 'MCD', 'XOM', 'GS', 'JPM', 'AXP', 'V', 'IBM', 'UNH', 'PG', 'GE', 'KO', 'CSCO', 'CVX', 'CAT', 'MRK', 'WMT', 'VZ', 'RTX', 'TRV', 'AAPL', 'ADBE', 'EBAY', 'QCOM', 'HPQ', 'JNPR', 'AMD']\n",
        "start = datetime.datetime(2017,1,1)\n",
        "end = datetime.datetime(2019,1,1)\n",
        "data = downloadStockData(tickers,start,end)"
      ],
      "execution_count": 3,
      "outputs": []
    },
    {
      "cell_type": "markdown",
      "metadata": {
        "id": "HyjpuKx4S6gf"
      },
      "source": [
        "In all the below functions we will do the trade on the similar stocks based upon different strategy which revolve around the central idea of pairs trading strategy. \n",
        "\n",
        "First of all find out the pairs from the historical data of 2011-2013 (change the dates in your assignment 1) and then on those pairs of stocks do the trading to get to know the profits\n",
        "\n",
        "\n",
        "Note:\n",
        "\n",
        "1) Don't forget to square off your trasactions for which there was no square off signal generated on the last date\n",
        "\n",
        "2) Do use some normalisation techniques in the data"
      ]
    },
    {
      "cell_type": "code",
      "metadata": {
        "id": "dnrTijpdy0L5"
      },
      "source": [
        "def trade1(data1, data2, window ,MAX_SHORTING_AMOUNT=10000, MAX_TRANSACTION_AT_A_TIME=5,c1=1,c2=0.75):\n",
        "    \"\"\"\n",
        "        This functions performs the trading according to the following strategy\n",
        "            For the distance approach , we will use the mean and standard deviation . If the ratio(Y/X) between the time series at any point becomes such that it is greater \n",
        "            than the mean+c_1*standard deviation  we will short the stock Y and go for long X and square off whenever the ratio becomes less than   mean+ c_2*standard deviation, \n",
        "            where c1 and c2 are constant here ,  like c_1=1, c_1=0.5 ,etc. Note c_1>c_2 If the ratio becomes less than the mean - c1*standard deviation , we will follow the reverse strategy .\n",
        "        Params: \n",
        "            data1                     : Time series data of stock 1\n",
        "            data2                     : Time series data of stock 2\n",
        "            window                    : The size of the datapoints from which we calculate the mean and standard deviation for each time \n",
        "            MAX_SHORTING_AMOUNT       : The maximum amount of money , for which the stocks can be shorted at a time\n",
        "            MAX_TRANSACTION_AT_A_TIME : the number of times we can short a stock , in each shorting we do the shorting worth  MAX_SHORTING_AMOUNT/MAX_TRANSACTION_AT_A_TIME\n",
        "            c1                        : A constant with usage stated above \n",
        "            c2                        : A constant with usage stated above\n",
        "        Return:\n",
        "            The profit which we can make by using this method\n",
        "    \"\"\"\n"
      ],
      "execution_count": 5,
      "outputs": []
    },
    {
      "cell_type": "code",
      "metadata": {
        "id": "27exIrTD9B5a"
      },
      "source": [
        "def trade2(data1, data2, window ,MAX_SHORTING_AMOUNT=10000, MAX_TRANSACTION_AT_A_TIME=5,c1=1,c2=0.75):\n",
        "    \"\"\"\n",
        "        This functions performs the trading according to the following strategy\n",
        "            For the distance approach , we will use the mean and standard deviation . If the distance(Y-X) between the time series at any point becomes such that it is greater \n",
        "            than the mean+c_1*standard deviation  we will short the stock Y and go for long X and square off whenever the distance becomes less than   mean+ c_2*standard deviation, \n",
        "            where c1 and c2 are constant here ,  like c_1=1, c_1=0.5 ,etc. Note c_1>c_2 If the distance becomes less than the mean - c1*standard deviation , we will follow the reverse strategy .\n",
        "        Params: \n",
        "            data1                     : Time series data of stock 1\n",
        "            data2                     : Time series data of stock 2\n",
        "            window                    : The size of the datapoints from which we calculate the mean and standard deviation for each time \n",
        "            MAX_SHORTING_AMOUNT       : The maximum amount of money , for which the stocks can be shorted at a time\n",
        "            MAX_TRANSACTION_AT_A_TIME : the number of times we can short a stock , in each shorting we do the shorting worth  MAX_SHORTING_AMOUNT/MAX_TRANSACTION_AT_A_TIME\n",
        "            c1                        : A constant with usage stated above \n",
        "            c2                        : A constant with usage stated above\n",
        "        Return:\n",
        "            The profit which we can make by using this method\n",
        "    \"\"\"\n"
      ],
      "execution_count": null,
      "outputs": []
    },
    {
      "cell_type": "code",
      "metadata": {
        "id": "ta-I72cX1fmq"
      },
      "source": [
        "def trade3(data1, data2,window, MAX_SHORTING_AMOUNT = 10000, MAX_TRANSACTION_AT_A_TIME=5,error_bound1=0.1,error_bound2=0.05):\n",
        "    \"\"\"\n",
        "        This functions performs the trading according to the following strategy\n",
        "            For the cointegration approach , we will use the fit a line and then calculate the errors . If the error ratio(Y/X) between the time series at any point becomes such that it is greater \n",
        "            than the error_bound1 (the error is calculated by fitting a line to the ratios data over the last <window> days) we will short the stock Y and go for long X and square off whenever the ratio\n",
        "            becomes less than error_bound2 .If the ratio becomes less than the -1*error_bound1 , we will follow the reverse strategy .\n",
        "        Params: \n",
        "            data1                     : Time series data of stock 1\n",
        "            data2                     : Time series data of stock 2\n",
        "            window                    : The size of the datapoints for which we fit a line and calculate the eror \n",
        "            MAX_SHORTING_AMOUNT       : The maximum amount of money , for which the stocks can be shorted at a time\n",
        "            MAX_TRANSACTION_AT_A_TIME : the number of times we can short a stock , in each shorting we do the shorting worth  MAX_SHORTING_AMOUNT/MAX_TRANSACTION_AT_A_TIME\n",
        "            error_bound1              : A constant with usage stated above \n",
        "            error_bound2              : A constant with usage stated above\n",
        "        Return:\n",
        "            The profit which we can make by using this method\n",
        "    \"\"\""
      ],
      "execution_count": null,
      "outputs": []
    },
    {
      "cell_type": "code",
      "metadata": {
        "id": "dmaDbYwk9OGj"
      },
      "source": [
        "def trade4(data1, data2, window1=5, window2=60,MAX_SHORTING_AMOUNT=10000, MAX_TRANSACTION_AT_A_TIME=5,c1=1,c2=0.75):\n",
        "    \"\"\"\n",
        "        This functions performs the trading according to the following strategy\n",
        "            For the cointegration approach, we will use the moving averages to calculate the transactions to be done.\n",
        "            First of all we calculate the moving average on window size of window1 and window2 and the moving standard deviation for window size of window2 for the ratio(Y/X) of stocks.\n",
        "            Also we assume window1<window2\n",
        "            Now when moving_average_window1 > moving_average_window2 + c1 * standard_deviation_window2 , we then short the stock Y and go for long on stock X and we would square off when\n",
        "            moving_average_window1 < moving_average_window2 - c2 * standard_deviation_window2 .  \n",
        "            Reverse strategy happens when moving_average_window1 < moving_average_window2 - c1 * standard_deviation_window2\n",
        "        Params:\n",
        "            data1                     : Time series data of stock 1\n",
        "            data2                     : Time series data of stock 2\n",
        "            window1                   : The size of the data points from which we calculate the moving averages. This will be the less number of days moving average\n",
        "            window1                   : The size of the data points from which we calculate the moving averages. This will be the more number of days moving average\n",
        "            MAX_SHORTING_AMOUNT       : The maximum amount of money , for which the stocks can be shorted at a time\n",
        "            MAX_TRANSACTION_AT_A_TIME : the number of times we can short a stock , in each shorting we do the shorting worth  MAX_SHORTING_AMOUNT/MAX_TRANSACTION_AT_A_TIME\n",
        "    \"\"\""
      ],
      "execution_count": 7,
      "outputs": []
    },
    {
      "cell_type": "code",
      "metadata": {
        "id": "CB0zvNV-ZbDs"
      },
      "source": [
        ""
      ],
      "execution_count": null,
      "outputs": []
    }
  ]
}